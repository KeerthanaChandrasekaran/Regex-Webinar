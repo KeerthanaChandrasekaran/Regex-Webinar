{
 "cells": [
  {
   "cell_type": "code",
   "execution_count": 18,
   "metadata": {},
   "outputs": [
    {
     "data": {
      "text/plain": [
       "datetime.datetime(2020, 5, 30, 18, 10, 55, 278167)"
      ]
     },
     "execution_count": 18,
     "metadata": {},
     "output_type": "execute_result"
    }
   ],
   "source": [
    "from datetime import datetime,timedelta\n",
    "curr_time = datetime.now()\n",
    "curr_time"
   ]
  },
  {
   "cell_type": "code",
   "execution_count": 6,
   "metadata": {},
   "outputs": [
    {
     "name": "stdout",
     "output_type": "stream",
     "text": [
      "year: 2020\n",
      "Hour: 18\n",
      "Month: 5\n"
     ]
    }
   ],
   "source": [
    "print('year:',curr_time.year)\n",
    "print('Hour:',curr_time.hour)\n",
    "print('Month:',curr_time.month)"
   ]
  },
  {
   "cell_type": "code",
   "execution_count": 17,
   "metadata": {},
   "outputs": [
    {
     "name": "stdout",
     "output_type": "stream",
     "text": [
      "May 30,2020\n",
      "Weekday:Saturday\n"
     ]
    }
   ],
   "source": [
    "print(curr_time.strftime(\"%B %d,%Y\"))\n",
    "print(curr_time.strftime(\"Weekday:%A\"))"
   ]
  },
  {
   "cell_type": "code",
   "execution_count": 14,
   "metadata": {},
   "outputs": [
    {
     "name": "stdout",
     "output_type": "stream",
     "text": [
      "2015-12-12 00:00:00\n"
     ]
    }
   ],
   "source": [
    "new_date = datetime(2015,12,12)\n",
    "print(new_date)"
   ]
  },
  {
   "cell_type": "code",
   "execution_count": 20,
   "metadata": {},
   "outputs": [
    {
     "name": "stdout",
     "output_type": "stream",
     "text": [
      "2020-05-28 18:10:55.278167\n"
     ]
    }
   ],
   "source": [
    "two_days_back =  curr_time - timedelta(days=2)\n",
    "print(two_days_back)"
   ]
  }
 ],
 "metadata": {
  "kernelspec": {
   "display_name": "Python 3",
   "language": "python",
   "name": "python3"
  },
  "language_info": {
   "codemirror_mode": {
    "name": "ipython",
    "version": 3
   },
   "file_extension": ".py",
   "mimetype": "text/x-python",
   "name": "python",
   "nbconvert_exporter": "python",
   "pygments_lexer": "ipython3",
   "version": "3.7.4"
  }
 },
 "nbformat": 4,
 "nbformat_minor": 2
}
