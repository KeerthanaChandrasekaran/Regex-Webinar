{
 "cells": [
  {
   "cell_type": "markdown",
   "metadata": {},
   "source": [
    "RegEx : Regular Expressions"
   ]
  },
  {
   "cell_type": "code",
   "execution_count": null,
   "metadata": {},
   "outputs": [],
   "source": [
    "Use of RegEx : Finding patterns in given text or file"
   ]
  },
  {
   "cell_type": "code",
   "execution_count": null,
   "metadata": {},
   "outputs": [],
   "source": [
    "2 modules available in python:\n",
    "    1.re\n",
    "    2.regex\n",
    "We are going to cover 're' module"
   ]
  },
  {
   "cell_type": "markdown",
   "metadata": {},
   "source": [
    "Metacharacters"
   ]
  },
  {
   "cell_type": "code",
   "execution_count": null,
   "metadata": {},
   "outputs": [],
   "source": [
    "1) . : Any character except \\n"
   ]
  },
  {
   "cell_type": "code",
   "execution_count": 11,
   "metadata": {},
   "outputs": [
    {
     "name": "stdout",
     "output_type": "stream",
     "text": [
      "['hawl', 'hall', 'heel', 'h$%l', 'h83l']\n"
     ]
    }
   ],
   "source": [
    "import re\n",
    "txt = 'hawl hall heel h$%l h83l'\n",
    "match = re.findall('h..l',txt)\n",
    "print(match)"
   ]
  },
  {
   "cell_type": "code",
   "execution_count": null,
   "metadata": {},
   "outputs": [],
   "source": [
    "2) * : Zero or more preceding character"
   ]
  },
  {
   "cell_type": "code",
   "execution_count": 20,
   "metadata": {},
   "outputs": [
    {
     "name": "stdout",
     "output_type": "stream",
     "text": [
      "['abb', 'ab', 'a']\n"
     ]
    }
   ],
   "source": [
    "import re\n",
    "txt = 'abbabcbca'\n",
    "\n",
    "match = re.findall('ab*',txt)\n",
    "print(match)"
   ]
  },
  {
   "cell_type": "code",
   "execution_count": null,
   "metadata": {},
   "outputs": [],
   "source": [
    "3) + : One or more preceding character"
   ]
  },
  {
   "cell_type": "code",
   "execution_count": 21,
   "metadata": {},
   "outputs": [
    {
     "name": "stdout",
     "output_type": "stream",
     "text": [
      "['abb', 'ab']\n"
     ]
    }
   ],
   "source": [
    "import re\n",
    "txt = 'abbabcbca'\n",
    "\n",
    "match = re.findall('ab+',txt)\n",
    "print(match)"
   ]
  },
  {
   "cell_type": "code",
   "execution_count": null,
   "metadata": {},
   "outputs": [],
   "source": [
    "4) ? : Optional - Zero or one occurence of preceding character"
   ]
  },
  {
   "cell_type": "code",
   "execution_count": 26,
   "metadata": {},
   "outputs": [
    {
     "name": "stdout",
     "output_type": "stream",
     "text": [
      "['ab', 'ab', 'a']\n"
     ]
    }
   ],
   "source": [
    "import re\n",
    "txt = 'abbabcbca'\n",
    "\n",
    "match = re.findall('ab?',txt)\n",
    "print(match)"
   ]
  },
  {
   "cell_type": "code",
   "execution_count": null,
   "metadata": {},
   "outputs": [],
   "source": [
    "5) ^ : Matches beginning of line"
   ]
  },
  {
   "cell_type": "code",
   "execution_count": 28,
   "metadata": {},
   "outputs": [
    {
     "name": "stdout",
     "output_type": "stream",
     "text": [
      "['hello']\n"
     ]
    }
   ],
   "source": [
    "import re\n",
    "match = re.findall('^hello','hello world')\n",
    "print(match)"
   ]
  },
  {
   "cell_type": "code",
   "execution_count": null,
   "metadata": {},
   "outputs": [],
   "source": [
    "6) $ : Matches end of line"
   ]
  },
  {
   "cell_type": "code",
   "execution_count": 29,
   "metadata": {},
   "outputs": [
    {
     "name": "stdout",
     "output_type": "stream",
     "text": [
      "['world']\n"
     ]
    }
   ],
   "source": [
    "import re\n",
    "match = re.findall('world$','hello world')\n",
    "print(match)"
   ]
  },
  {
   "cell_type": "code",
   "execution_count": null,
   "metadata": {},
   "outputs": [],
   "source": [
    "7) | : Either/or"
   ]
  },
  {
   "cell_type": "code",
   "execution_count": 17,
   "metadata": {},
   "outputs": [
    {
     "name": "stdout",
     "output_type": "stream",
     "text": [
      "['falls', 'falls', 'stays']\n"
     ]
    }
   ],
   "source": [
    "import re\n",
    "txt = 'Rain falls in Bangaladesh. Rain falls in Hyderabad. Rain stays in Bangalore'\n",
    "match = re.findall(r'falls|stays',txt)\n",
    "print(match)"
   ]
  },
  {
   "cell_type": "code",
   "execution_count": null,
   "metadata": {},
   "outputs": [],
   "source": [
    "8) [] : set of characters"
   ]
  },
  {
   "cell_type": "code",
   "execution_count": 39,
   "metadata": {},
   "outputs": [
    {
     "name": "stdout",
     "output_type": "stream",
     "text": [
      "['apple', 'orange']\n"
     ]
    }
   ],
   "source": [
    "import re\n",
    "txt = 'apple orange'\n",
    "match = re.findall('[A-Za-z]+[aeiou]',txt)\n",
    "print(match)"
   ]
  },
  {
   "cell_type": "code",
   "execution_count": null,
   "metadata": {},
   "outputs": [],
   "source": [
    "9) {} : number of character occurences\n",
    "      {n} - exactly n occurence of preceding character\n",
    "      {n,} - atleast n occurence of preceding character\n",
    "      {n,m} - minimum n occurence,maximum m occurence of preceding character"
   ]
  },
  {
   "cell_type": "code",
   "execution_count": 47,
   "metadata": {},
   "outputs": [
    {
     "name": "stdout",
     "output_type": "stream",
     "text": [
      "['Rain', 'Spain']\n",
      "['The']\n",
      "['Rain', 'Spain']\n"
     ]
    }
   ],
   "source": [
    "import re\n",
    "txt = 'The Rain in Spain'\n",
    "\n",
    "#To find all words with atleast 4 characters\n",
    "match = re.findall(r'[A-Za-z]{4,}',txt)\n",
    "print(match)\n",
    "\n",
    "#To find all words with exactly 3 characters\n",
    "match = re.findall(r'\\b[A-Za-z]{3}\\b',txt)\n",
    "print(match)\n",
    "\n",
    "#To find all words with 4 to 5 characters\n",
    "match = re.findall(r'[A-Za-z]{4,5}',txt)\n",
    "print(match)\n"
   ]
  },
  {
   "cell_type": "code",
   "execution_count": null,
   "metadata": {},
   "outputs": [],
   "source": [
    "10) () : Grouping\n",
    "\n",
    "Used for finding sub-patterns with pattern"
   ]
  },
  {
   "cell_type": "code",
   "execution_count": 58,
   "metadata": {},
   "outputs": [
    {
     "name": "stdout",
     "output_type": "stream",
     "text": [
      "Username: abc\n",
      "Domain: gmail.com\n"
     ]
    }
   ],
   "source": [
    "import re\n",
    "email = 'abc@gmail.com'\n",
    "match = re.search(r'(\\w+)@(.*)',email)\n",
    "print('Username:',match.group(1))\n",
    "print('Domain:',match.group(2))"
   ]
  }
 ],
 "metadata": {
  "kernelspec": {
   "display_name": "Python 3",
   "language": "python",
   "name": "python3"
  },
  "language_info": {
   "codemirror_mode": {
    "name": "ipython",
    "version": 3
   },
   "file_extension": ".py",
   "mimetype": "text/x-python",
   "name": "python",
   "nbconvert_exporter": "python",
   "pygments_lexer": "ipython3",
   "version": "3.7.4"
  }
 },
 "nbformat": 4,
 "nbformat_minor": 2
}
