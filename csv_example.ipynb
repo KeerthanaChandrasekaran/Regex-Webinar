{
 "cells": [
  {
   "cell_type": "code",
   "execution_count": 68,
   "metadata": {},
   "outputs": [
    {
     "name": "stdout",
     "output_type": "stream",
     "text": [
      "Subjects with marks less than 50: {'Science', 'Maths'}\n"
     ]
    },
    {
     "data": {
      "text/plain": [
       "[['', 'Maths', 'Science', 'English', 'Average'],\n",
       " ['Quarterly', '89', '70', '90', 83.0],\n",
       " ['Half-Yearly', '79', '48', '92', 73.0],\n",
       " ['Annual', '46', '67', '89', 67.33333333333333]]"
      ]
     },
     "execution_count": 68,
     "metadata": {},
     "output_type": "execute_result"
    }
   ],
   "source": [
    "import csv\n",
    "import numpy as np\n",
    "\n",
    "#Reading the 'marks.csv' file\n",
    "temp = []\n",
    "with open('marks.csv','r') as file:\n",
    "    reader = csv.reader(file)\n",
    "    for row in reader:\n",
    "        temp.append(row)\n",
    "\n",
    "#Average score on all tests\n",
    "for index,val in enumerate(temp):\n",
    "    if(index == 0):\n",
    "        temp[index].append('Average')\n",
    "    else:\n",
    "        s = [int(i) for i in temp[index] if i.isnumeric()]\n",
    "        avg = np.sum(s)/3\n",
    "        temp[index].append(avg)\n",
    "\n",
    "#Subjects where the student scores less than 50\n",
    "temp1 = [[],[],[]]\n",
    "for i in temp[1:]:\n",
    "    for index,val in enumerate(i[1:-1]):\n",
    "        temp1[index].append(int(val))\n",
    "\n",
    "res = set()\n",
    "for index,val in enumerate(temp1):\n",
    "    for i in val:\n",
    "        if i<50:\n",
    "            subj = temp[0][index+1]    \n",
    "            res.add(subj)\n",
    "            break;\n",
    "            \n",
    "print('Subjects with marks less than 50:',res)\n",
    "\n",
    "#writing to 'output.csv'\n",
    "with open('output.csv','w',newline='') as f:\n",
    "    writer = csv.writer(f)\n",
    "    writer.writerows(temp)\n",
    "temp"
   ]
  },
  {
   "cell_type": "code",
   "execution_count": 16,
   "metadata": {},
   "outputs": [
    {
     "data": {
      "text/plain": [
       "0    uthrakeerthana061197@gmail.com\n",
       "1                 iotricx@gmail.com\n",
       "2        krishna.rahul131@gmail.com\n",
       "3             gowthambt09@gmail.com\n",
       "Name: email id, dtype: object"
      ]
     },
     "execution_count": 16,
     "metadata": {},
     "output_type": "execute_result"
    }
   ],
   "source": [
    "import pandas as pd\n",
    "df = pd.read_excel('C:/Users/User/Desktop/webApp/email.xlsx')\n",
    "users = list(df['email id']\n",
    "\n",
    "    "
   ]
  }
 ],
 "metadata": {
  "kernelspec": {
   "display_name": "Python 3",
   "language": "python",
   "name": "python3"
  },
  "language_info": {
   "codemirror_mode": {
    "name": "ipython",
    "version": 3
   },
   "file_extension": ".py",
   "mimetype": "text/x-python",
   "name": "python",
   "nbconvert_exporter": "python",
   "pygments_lexer": "ipython3",
   "version": "3.7.4"
  }
 },
 "nbformat": 4,
 "nbformat_minor": 2
}
