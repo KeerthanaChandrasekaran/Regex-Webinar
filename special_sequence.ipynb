{
 "cells": [
  {
   "cell_type": "code",
   "execution_count": null,
   "metadata": {},
   "outputs": [],
   "source": [
    "Special Sequences:\n",
    "Some characters followed by backslash have special meaning in regex. Those characters are named Special Sequences"
   ]
  },
  {
   "cell_type": "code",
   "execution_count": null,
   "metadata": {},
   "outputs": [],
   "source": [
    "1) \\A - Beginning of string (Equivalent to '^')\n",
    "2) \\b - Word boundary\n",
    "   \\B - Not a word boundary\n",
    "3) \\d - digits (Equivalent to [0-9])\n",
    "   \\D - nonDigits (Equivalent to [^0-9])\n",
    "4) \\s - space\n",
    "   \\S - Not a space\n",
    "5) \\w - word character (Equivalent to [A-Za-z0-9_])\n",
    "   \\W - nonWord character (Equivalent to [^A-Za-z0-9_])\n",
    "6) \\Z - end of string (Equivalent to '$')"
   ]
  },
  {
   "cell_type": "code",
   "execution_count": null,
   "metadata": {},
   "outputs": [],
   "source": [
    "Pattern should be preceded with 'r'(raw_data) if it contains any special sequence"
   ]
  }
 ],
 "metadata": {
  "kernelspec": {
   "display_name": "Python 3",
   "language": "python",
   "name": "python3"
  },
  "language_info": {
   "codemirror_mode": {
    "name": "ipython",
    "version": 3
   },
   "file_extension": ".py",
   "mimetype": "text/x-python",
   "name": "python",
   "nbconvert_exporter": "python",
   "pygments_lexer": "ipython3",
   "version": "3.7.4"
  }
 },
 "nbformat": 4,
 "nbformat_minor": 2
}
