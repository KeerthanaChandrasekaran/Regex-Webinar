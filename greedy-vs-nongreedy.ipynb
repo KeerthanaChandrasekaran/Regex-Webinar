{
 "cells": [
  {
   "cell_type": "code",
   "execution_count": null,
   "metadata": {},
   "outputs": [],
   "source": [
    "Greedy vs Non-Greedy\n",
    "\n",
    "Greedy    : *,+\n",
    "Non-greedy : ?"
   ]
  },
  {
   "cell_type": "code",
   "execution_count": 10,
   "metadata": {},
   "outputs": [
    {
     "name": "stdout",
     "output_type": "stream",
     "text": [
      "The Rain in Spain\n",
      "The Rain\n"
     ]
    }
   ],
   "source": [
    "import re\n",
    "txt = 'The Rain in Spain'\n",
    "\n",
    "#greedy approach\n",
    "match = re.search('.*n',txt)\n",
    "print(match.group())\n",
    "\n",
    "#non-greedy approach\n",
    "match = re.search('.*?n',txt)\n",
    "print(match.group())"
   ]
  },
  {
   "cell_type": "code",
   "execution_count": 24,
   "metadata": {},
   "outputs": [
    {
     "name": "stdout",
     "output_type": "stream",
     "text": [
      "First group: sample_12$@gmail\n",
      "Last group: com\n",
      "Swapping with greedy approach: com@sample_12$@gmail\n",
      "First group: sample_12$\n",
      "Last group: gmail@com\n",
      "Swapping with non-greedy approach: gmail@com@sample_12$\n"
     ]
    }
   ],
   "source": [
    "import re\n",
    "txt = 'sample_12$@gmail@com'\n",
    "\n",
    "#greedy approach with swapping 'com' & 'sample_12$@gmail'\n",
    "pattern = re.compile('(?P<first>.*)@(?P<last>.*)')\n",
    "match = re.search(pattern,txt)\n",
    "print('First group:',match.group('first'))\n",
    "print('Last group:',match.group('last'))\n",
    "result = pattern.sub(r'\\g<last>@\\g<first>',txt)\n",
    "print('Swapping with greedy approach:',result)\n",
    "\n",
    "#non-greedy approach with swapping 'gmail@com' & 'sample_12$'\n",
    "pattern = re.compile('(?P<first>.*?)@(?P<last>.*)')\n",
    "match = re.search(pattern,txt)\n",
    "print('First group:',match.group('first'))\n",
    "print('Last group:',match.group('last'))\n",
    "result = pattern.sub(r'\\g<last>@\\g<first>',txt)\n",
    "print('Swapping with non-greedy approach:',result)"
   ]
  },
  {
   "cell_type": "code",
   "execution_count": null,
   "metadata": {},
   "outputs": [],
   "source": [
    "Named Groups (?P<groupname>)"
   ]
  },
  {
   "cell_type": "code",
   "execution_count": 35,
   "metadata": {},
   "outputs": [
    {
     "name": "stdout",
     "output_type": "stream",
     "text": [
      "John\n",
      "Rookz\n",
      "Rookz John\n",
      "Birla Markz Birla\n"
     ]
    }
   ],
   "source": [
    "import re\n",
    "name = 'John Rookz'\n",
    "pattern = re.compile(r\"(?P<first>\\w+) (?P<last>\\w+)\")\n",
    "result = pattern.match(name)\n",
    "\n",
    "#To get firstname\n",
    "print(result.group('first'))\n",
    "\n",
    "#To get lastname\n",
    "print(result.group('last'))\n",
    "\n",
    "#To swap firstname and lastname in given string\n",
    "print(pattern.sub(r\"\\g<last> \\g<first>\",name))\n",
    "\n",
    "#To match the existing value\n",
    "name = 'Birla Markz Birla'\n",
    "pattern = re.compile(r'(?P<g1>\\w+) (?P<g2>\\w+) (?P=g1)')\n",
    "match = pattern.match(name)\n",
    "print(match.group())"
   ]
  },
  {
   "cell_type": "code",
   "execution_count": null,
   "metadata": {},
   "outputs": [],
   "source": [
    "Non-Capturing groups  (?:<pattern>)"
   ]
  },
  {
   "cell_type": "code",
   "execution_count": 9,
   "metadata": {},
   "outputs": [
    {
     "name": "stdout",
     "output_type": "stream",
     "text": [
      "dog,cat,lion,tiger\n"
     ]
    }
   ],
   "source": [
    "import re\n",
    "txt = 'animal=dog,cat,lion,tiger'\n",
    "match = re.search(r'(?:animal)(?:=)([\\w,]+)',txt)\n",
    "print(match.group(1))"
   ]
  },
  {
   "cell_type": "raw",
   "metadata": {},
   "source": [
    "Look Ahead "
   ]
  },
  {
   "cell_type": "code",
   "execution_count": null,
   "metadata": {},
   "outputs": [],
   "source": [
    "Postive look ahead : A(?=B)"
   ]
  },
  {
   "cell_type": "code",
   "execution_count": 3,
   "metadata": {},
   "outputs": [
    {
     "name": "stdout",
     "output_type": "stream",
     "text": [
      "<re.Match object; span=(9, 15), match='Tharun'>\n",
      "9 15\n",
      "<re.Match object; span=(36, 43), match='Bharath'>\n",
      "36 43\n"
     ]
    }
   ],
   "source": [
    "import re\n",
    "txt = \"Ramya is Tharun's friend. Tharun is Bharath's friend\"\n",
    "for person in re.finditer(r'\\w+(?=(\\'s\\sfriend))',txt):\n",
    "    print(person)\n",
    "    print(person.start(),person.end())"
   ]
  },
  {
   "cell_type": "code",
   "execution_count": null,
   "metadata": {},
   "outputs": [],
   "source": [
    "Negative look ahead : A(?!B)"
   ]
  },
  {
   "cell_type": "code",
   "execution_count": 33,
   "metadata": {},
   "outputs": [
    {
     "name": "stdout",
     "output_type": "stream",
     "text": [
      "Bharath's \n",
      "36 46\n"
     ]
    }
   ],
   "source": [
    "import re\n",
    "txt = \"Ramya is Tharun's friend. Tharun is Bharath's enemy\"\n",
    "for person in re.finditer(r'(\\w+\\'s\\s)(?!(friend))',txt):\n",
    "    print(person.group(1))\n",
    "    print(person.start(),person.end())"
   ]
  }
 ],
 "metadata": {
  "kernelspec": {
   "display_name": "Python 3",
   "language": "python",
   "name": "python3"
  },
  "language_info": {
   "codemirror_mode": {
    "name": "ipython",
    "version": 3
   },
   "file_extension": ".py",
   "mimetype": "text/x-python",
   "name": "python",
   "nbconvert_exporter": "python",
   "pygments_lexer": "ipython3",
   "version": "3.7.4"
  }
 },
 "nbformat": 4,
 "nbformat_minor": 2
}
