{
 "cells": [
  {
   "cell_type": "markdown",
   "metadata": {},
   "source": [
    "FUNCTIONS"
   ]
  },
  {
   "cell_type": "raw",
   "metadata": {},
   "source": [
    "1 . findall"
   ]
  },
  {
   "cell_type": "code",
   "execution_count": 52,
   "metadata": {},
   "outputs": [
    {
     "name": "stdout",
     "output_type": "stream",
     "text": [
      "['Rain', 'Spain']\n",
      "['Rain']\n",
      "['Rain', 'in', 'Spain']\n"
     ]
    }
   ],
   "source": [
    "import re\n",
    "txt = 'The Rain in Spain'\n",
    "\n",
    "#To find all words ends with 'ain'\n",
    "match = re.findall(r'[A-Za-z]*ain',txt)\n",
    "print(match)\n",
    "\n",
    "#To find all words starts with 'R' & ends with 'n'\n",
    "match = re.findall(r'R[A-Za-z]+n',txt)\n",
    "print(match)\n",
    "\n",
    "#To find all words which contains 'in'\n",
    "match = re.findall(r'[A-Za-z]*in[A-Za-z]*',txt)\n",
    "print(match)"
   ]
  },
  {
   "cell_type": "raw",
   "metadata": {},
   "source": [
    "2. Search"
   ]
  },
  {
   "cell_type": "code",
   "execution_count": 43,
   "metadata": {},
   "outputs": [
    {
     "name": "stdout",
     "output_type": "stream",
     "text": [
      "<re.Match object; span=(21, 34), match='91-8901227801'>\n",
      "('91', '8901227801')\n",
      "91\n",
      "8901227801\n"
     ]
    }
   ],
   "source": [
    "import re\n",
    "line = 'My mobile number is +91-8901227801 and +91-7098816640 is my second number'\n",
    "\n",
    "#To find country code & mobile number\n",
    "match = re.search(r'(\\d{2})-(\\d{10})',line)\n",
    "print(match)\n",
    "print(match.groups())\n",
    "print(match.group(1))\n",
    "print(match.group(2))"
   ]
  },
  {
   "cell_type": "raw",
   "metadata": {},
   "source": [
    "3. Match"
   ]
  },
  {
   "cell_type": "code",
   "execution_count": 51,
   "metadata": {},
   "outputs": [
    {
     "name": "stdout",
     "output_type": "stream",
     "text": [
      "<re.Match object; span=(0, 5), match='Ratha'>\n",
      "<re.Match object; span=(9, 13), match='Reka'>\n",
      "None\n"
     ]
    }
   ],
   "source": [
    "import re\n",
    "line = \"Ratha is Reka's best friend\"\n",
    "\n",
    "#To find the first name starting with 'R'\n",
    "match = re.match('R[a-zA-Z]+',line)\n",
    "print(match)\n",
    "\n",
    "#To specify starting position for match \n",
    "pattern = re.compile('R[a-zA-Z]+')\n",
    "match = pattern.match(line,pos=9)\n",
    "print(match)\n",
    "\n",
    "line = \"Geetha is Reka's best friend\"\n",
    "match = re.match('R[a-zA-Z]+',line)\n",
    "print(match)"
   ]
  },
  {
   "cell_type": "raw",
   "metadata": {},
   "source": [
    "4. Finditer"
   ]
  },
  {
   "cell_type": "code",
   "execution_count": 46,
   "metadata": {},
   "outputs": [
    {
     "name": "stdout",
     "output_type": "stream",
     "text": [
      "<re.Match object; span=(0, 5), match='Ratha'>\n",
      "<re.Match object; span=(9, 13), match='Reka'>\n"
     ]
    }
   ],
   "source": [
    "import re\n",
    "line = \"Ratha is Reka's best friend\"\n",
    "\n",
    "#To find the names starting with 'R'\n",
    "pattern = re.compile('R[a-zA-Z]+')\n",
    "for match in pattern.finditer(line):\n",
    "    print(match)"
   ]
  },
  {
   "cell_type": "raw",
   "metadata": {},
   "source": [
    "5.split"
   ]
  },
  {
   "cell_type": "code",
   "execution_count": 4,
   "metadata": {},
   "outputs": [
    {
     "name": "stdout",
     "output_type": "stream",
     "text": [
      "['06', '11', '1997']\n",
      "['06', '11-1997']\n"
     ]
    }
   ],
   "source": [
    "dob = '06-11-1997'\n",
    "\n",
    "splits = dob.split('-')\n",
    "print(splits)\n",
    "\n",
    "splits = dob.split('-',1)\n",
    "print(splits)"
   ]
  }
 ],
 "metadata": {
  "kernelspec": {
   "display_name": "Python 3",
   "language": "python",
   "name": "python3"
  },
  "language_info": {
   "codemirror_mode": {
    "name": "ipython",
    "version": 3
   },
   "file_extension": ".py",
   "mimetype": "text/x-python",
   "name": "python",
   "nbconvert_exporter": "python",
   "pygments_lexer": "ipython3",
   "version": "3.7.4"
  }
 },
 "nbformat": 4,
 "nbformat_minor": 2
}
